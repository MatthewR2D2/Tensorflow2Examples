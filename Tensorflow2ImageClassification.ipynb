{
  "nbformat": 4,
  "nbformat_minor": 0,
  "metadata": {
    "colab": {
      "name": "Tensorflow2ImageClassification.ipynb",
      "version": "0.3.2",
      "provenance": [],
      "collapsed_sections": [],
      "include_colab_link": true
    },
    "kernelspec": {
      "name": "python3",
      "display_name": "Python 3"
    },
    "accelerator": "TPU"
  },
  "cells": [
    {
      "cell_type": "markdown",
      "metadata": {
        "id": "view-in-github",
        "colab_type": "text"
      },
      "source": [
        "<a href=\"https://colab.research.google.com/github/MatthewR2D2/Tensorflow2Examples/blob/master/Tensorflow2ImageClassification.ipynb\" target=\"_parent\"><img src=\"https://colab.research.google.com/assets/colab-badge.svg\" alt=\"Open In Colab\"/></a>"
      ]
    },
    {
      "cell_type": "code",
      "metadata": {
        "id": "QqcnARSp1Jrm",
        "colab_type": "code",
        "colab": {
          "base_uri": "https://localhost:8080/",
          "height": 84
        },
        "outputId": "88187e30-4d16-4dd8-a42b-f20c6d05c89c"
      },
      "source": [
        "!pip install -q tensorflow==2.0.0-alpha0"
      ],
      "execution_count": 1,
      "outputs": [
        {
          "output_type": "stream",
          "text": [
            "\u001b[K     |████████████████████████████████| 79.9MB 79.7MB/s \n",
            "\u001b[K     |████████████████████████████████| 419kB 45.4MB/s \n",
            "\u001b[K     |████████████████████████████████| 3.0MB 35.9MB/s \n",
            "\u001b[K     |████████████████████████████████| 61kB 21.1MB/s \n",
            "\u001b[?25h"
          ],
          "name": "stdout"
        }
      ]
    },
    {
      "cell_type": "code",
      "metadata": {
        "id": "6tPHNTDt1cxV",
        "colab_type": "code",
        "colab": {}
      },
      "source": [
        "from __future__ import absolute_import, division, print_function, unicode_literals"
      ],
      "execution_count": 0,
      "outputs": []
    },
    {
      "cell_type": "code",
      "metadata": {
        "id": "wQiXStzx1d1I",
        "colab_type": "code",
        "colab": {
          "base_uri": "https://localhost:8080/",
          "height": 33
        },
        "outputId": "7e51b430-5a1c-4840-fe1c-a795b5a78ea2"
      },
      "source": [
        "import tensorflow as tf\n",
        "from tensorflow import keras\n",
        "import numpy as np\n",
        "import matplotlib.pyplot as plt\n",
        "print(tf.__version__)"
      ],
      "execution_count": 3,
      "outputs": [
        {
          "output_type": "stream",
          "text": [
            "2.0.0-alpha0\n"
          ],
          "name": "stdout"
        }
      ]
    },
    {
      "cell_type": "code",
      "metadata": {
        "id": "OkSB4njj15y0",
        "colab_type": "code",
        "colab": {
          "base_uri": "https://localhost:8080/",
          "height": 170
        },
        "outputId": "9fdd6767-51e3-49ca-9729-e96a5b7dcebd"
      },
      "source": [
        "# import dataset from keras\n",
        "fashion_mnist = keras.datasets.fashion_mnist\n",
        "(train_images, train_labels), (test_images, test_labels) = fashion_mnist.load_data()"
      ],
      "execution_count": 4,
      "outputs": [
        {
          "output_type": "stream",
          "text": [
            "Downloading data from https://storage.googleapis.com/tensorflow/tf-keras-datasets/train-labels-idx1-ubyte.gz\n",
            "32768/29515 [=================================] - 0s 0us/step\n",
            "Downloading data from https://storage.googleapis.com/tensorflow/tf-keras-datasets/train-images-idx3-ubyte.gz\n",
            "26427392/26421880 [==============================] - 1s 0us/step\n",
            "Downloading data from https://storage.googleapis.com/tensorflow/tf-keras-datasets/t10k-labels-idx1-ubyte.gz\n",
            "8192/5148 [===============================================] - 0s 0us/step\n",
            "Downloading data from https://storage.googleapis.com/tensorflow/tf-keras-datasets/t10k-images-idx3-ubyte.gz\n",
            "4423680/4422102 [==============================] - 0s 0us/step\n"
          ],
          "name": "stdout"
        }
      ]
    },
    {
      "cell_type": "code",
      "metadata": {
        "id": "vNnXgwlw4pSC",
        "colab_type": "code",
        "colab": {
          "base_uri": "https://localhost:8080/",
          "height": 50
        },
        "outputId": "f2e12401-456a-42ed-bc1f-119cd3f62162"
      },
      "source": [
        "# Define Class names for lables\n",
        "class_names = ['T-shirt/top', 'Trouser', 'Pullover', 'Dress', 'Coat',\n",
        "               'Sandal', 'Shirt', 'Sneaker', 'Bag', 'Ankle boot']\n",
        "\n",
        "# Look at shape of the data + Lables\n",
        "print(\"TRAINING: Data: {} , Lables : {}\".format(train_images.shape, len(train_labels)))\n",
        "print(\"TESTING: Data: {} , Lables : {}\".format(test_images.shape, len(test_labels)))"
      ],
      "execution_count": 8,
      "outputs": [
        {
          "output_type": "stream",
          "text": [
            "TRAINING: Data: (60000, 28, 28) , Lables : 60000\n",
            "TESTING: Data: (10000, 28, 28) , Lables : 10000\n"
          ],
          "name": "stdout"
        }
      ]
    },
    {
      "cell_type": "code",
      "metadata": {
        "id": "iZ8mdxvH46DU",
        "colab_type": "code",
        "colab": {}
      },
      "source": [
        "# Pre Process data\n",
        "# Normalize the data (0-1)\n",
        "# Training and Testing data NEEDS to be processed the exact same way\n",
        "\n",
        "def normalizeImages(images):\n",
        "  return images / 255.0\n",
        "train_images = normalizeImages(train_images)\n",
        "test_images = normalizeImages(test_images)"
      ],
      "execution_count": 0,
      "outputs": []
    },
    {
      "cell_type": "code",
      "metadata": {
        "id": "4tGdyAr16Tdx",
        "colab_type": "code",
        "colab": {}
      },
      "source": [
        "# Build a model for this\n",
        "model = keras.Sequential([\n",
        "    # Transform the format of the images from 2D array to 1D Array\n",
        "    # 28x28 -> 784\n",
        "    keras.layers.Flatten(input_shape = (28, 28)), # Image size\n",
        "    # Densely Connected/ Fully connected neural layers\n",
        "    keras.layers.Dense(128, activation='relu'), # 128 Nodes/Neurons\n",
        "    keras.layers.Dense(10, activation='softmax') # 10 nodes/neurons\n",
        "    # Softmax layer returns a array of 10 probabilites scores that sum to 1\n",
        "    \n",
        "])"
      ],
      "execution_count": 0,
      "outputs": []
    },
    {
      "cell_type": "code",
      "metadata": {
        "id": "NGp262AK7cnX",
        "colab_type": "code",
        "colab": {}
      },
      "source": [
        "# Compile the model\n",
        "# Optimizer updates the model by the data it see and loss function\n",
        "# Loss measures how accurate the model is durning training\n",
        "# Metrics used to monitor the traiing and testing steps\n",
        "model.compile(optimizer='adam',\n",
        "              loss='sparse_categorical_crossentropy',\n",
        "              metrics=['accuracy'])"
      ],
      "execution_count": 0,
      "outputs": []
    },
    {
      "cell_type": "code",
      "metadata": {
        "id": "I264glhL75BP",
        "colab_type": "code",
        "colab": {
          "base_uri": "https://localhost:8080/",
          "height": 388
        },
        "outputId": "683265fa-36e8-4c56-804d-d2739d04dec7"
      },
      "source": [
        "# Now is the time to start the training of the model\n",
        "model.fit(train_images, train_labels, epochs = 10)"
      ],
      "execution_count": 15,
      "outputs": [
        {
          "output_type": "stream",
          "text": [
            "Epoch 1/10\n",
            "60000/60000 [==============================] - 6s 98us/sample - loss: 1.0891 - accuracy: 0.6587\n",
            "Epoch 2/10\n",
            "60000/60000 [==============================] - 6s 96us/sample - loss: 0.6414 - accuracy: 0.7682\n",
            "Epoch 3/10\n",
            "60000/60000 [==============================] - 6s 95us/sample - loss: 0.5652 - accuracy: 0.7969\n",
            "Epoch 4/10\n",
            "60000/60000 [==============================] - 6s 103us/sample - loss: 0.5223 - accuracy: 0.8148\n",
            "Epoch 5/10\n",
            "60000/60000 [==============================] - 6s 96us/sample - loss: 0.4942 - accuracy: 0.8257\n",
            "Epoch 6/10\n",
            "60000/60000 [==============================] - 5s 90us/sample - loss: 0.4740 - accuracy: 0.8339\n",
            "Epoch 7/10\n",
            "60000/60000 [==============================] - 5s 90us/sample - loss: 0.4594 - accuracy: 0.8381\n",
            "Epoch 8/10\n",
            "60000/60000 [==============================] - 5s 89us/sample - loss: 0.4469 - accuracy: 0.8418\n",
            "Epoch 9/10\n",
            "60000/60000 [==============================] - 5s 91us/sample - loss: 0.4372 - accuracy: 0.8463\n",
            "Epoch 10/10\n",
            "60000/60000 [==============================] - 5s 81us/sample - loss: 0.4286 - accuracy: 0.8483\n"
          ],
          "name": "stdout"
        },
        {
          "output_type": "execute_result",
          "data": {
            "text/plain": [
              "<tensorflow.python.keras.callbacks.History at 0x7f70cdde45c0>"
            ]
          },
          "metadata": {
            "tags": []
          },
          "execution_count": 15
        }
      ]
    },
    {
      "cell_type": "code",
      "metadata": {
        "id": "qCCub-Qj8RYm",
        "colab_type": "code",
        "colab": {
          "base_uri": "https://localhost:8080/",
          "height": 70
        },
        "outputId": "4b63f196-36ee-4754-8ec5-1190f3f891e1"
      },
      "source": [
        "# time to evaluate the accuracy of the model using the testing data\n",
        "test_loss, test_acc = model.evaluate(test_images, test_labels)\n",
        "\n",
        "print(\"Test Accuracy:\", test_acc)"
      ],
      "execution_count": 16,
      "outputs": [
        {
          "output_type": "stream",
          "text": [
            "10000/10000 [==============================] - 0s 49us/sample - loss: 0.4592 - accuracy: 0.8335\n",
            "Test Accuracy: 0.8335\n"
          ],
          "name": "stdout"
        }
      ]
    },
    {
      "cell_type": "code",
      "metadata": {
        "id": "jFk0QzGP8tEw",
        "colab_type": "code",
        "colab": {
          "base_uri": "https://localhost:8080/",
          "height": 70
        },
        "outputId": "5c2db4a8-0246-46dc-e18c-f4961455516b"
      },
      "source": [
        "# The accuracy shows overfitting of the data set\n",
        "# As the training accuracy is less than the testing accuracy \n",
        "# So this model is not generalized enough \n",
        "# To make predictiions on new data \n",
        "predictions  = model.predict(test_images)\n",
        "# This will show a array of all labels pridictiion\n",
        "print(\"Preidction Example:\", predictions[0])"
      ],
      "execution_count": 17,
      "outputs": [
        {
          "output_type": "stream",
          "text": [
            "Preidction Example: [3.4997606e-07 2.1836456e-07 1.0012695e-05 5.6373115e-06 8.8497345e-06\n",
            " 1.2260524e-01 6.8961249e-06 2.6185641e-01 3.7981521e-03 6.1170828e-01]\n"
          ],
          "name": "stdout"
        }
      ]
    },
    {
      "cell_type": "code",
      "metadata": {
        "id": "aqkY2g7P9T--",
        "colab_type": "code",
        "colab": {
          "base_uri": "https://localhost:8080/",
          "height": 33
        },
        "outputId": "56b0990d-bdc8-4355-8ca9-2bd63f2c10e6"
      },
      "source": [
        "# Find the prediction with the highest probability\n",
        "\n",
        "print(\"Prediction @ 0 Class is:\",class_names[np.argmax(predictions[0])])"
      ],
      "execution_count": 19,
      "outputs": [
        {
          "output_type": "stream",
          "text": [
            "Prediction @ 0 Class is: Ankle boot\n"
          ],
          "name": "stdout"
        }
      ]
    },
    {
      "cell_type": "code",
      "metadata": {
        "id": "yB18pZVbKN5v",
        "colab_type": "code",
        "colab": {}
      },
      "source": [
        "# Ploting method for looking at prediction array for each image\n",
        "def plot_image(i, predictions_array, true_label, img):\n",
        "  # Get the prediction, real label and the image from respected arrays for the ith position\n",
        "  predictions_array, true_label, img = predictions_array[i], true_label[i], img[i]\n",
        "  plt.grid(False)\n",
        "  plt.xticks([])\n",
        "  plt.yticks([])\n",
        "  \n",
        "  plt.imshow(img, cmap=plt.cm.binary)\n",
        "  # get the highest prediction lablel and compare to ture label\n",
        "  predicted_label = np.argmax(predictions_array)\n",
        "  if predicted_label == true_label:\n",
        "    # Change color of the bar based on label comparision resluts\n",
        "    color = 'blue'\n",
        "  else:\n",
        "    color = 'red'\n",
        "\n",
        "  plt.xlabel(\"{} {:2.0f}% ({})\".format(class_names[predicted_label],\n",
        "                                100*np.max(predictions_array),\n",
        "                                class_names[true_label]),\n",
        "                                color=color)\n",
        "  \n",
        "def plot_value_array(i, predictions_array, true_label):\n",
        "  predictions_array, true_label = predictions_array[i], true_label[i]\n",
        "  plt.grid(False)\n",
        "  plt.xticks([])\n",
        "  plt.yticks([])\n",
        "  thisplot = plt.bar(range(10), predictions_array, color=\"#777777\")\n",
        "  plt.ylim([0, 1])\n",
        "  predicted_label = np.argmax(predictions_array)\n",
        "\n",
        "  thisplot[predicted_label].set_color('red')\n",
        "  thisplot[true_label].set_color('blue')"
      ],
      "execution_count": 0,
      "outputs": []
    },
    {
      "cell_type": "code",
      "metadata": {
        "id": "zNY9jxuPLKdu",
        "colab_type": "code",
        "colab": {
          "base_uri": "https://localhost:8080/",
          "height": 206
        },
        "outputId": "c899c42e-fdde-425d-cd4b-b0a4d55e72d8"
      },
      "source": [
        "i = 0\n",
        "plt.figure(figsize = (6,3))\n",
        "plt.subplot(1,2,1)\n",
        "plot_image(i, predictions, test_labels, test_images)\n",
        "plt.subplot(1,2,2)\n",
        "plot_value_array(i, predictions, test_labels)\n",
        "plt.show()"
      ],
      "execution_count": 22,
      "outputs": [
        {
          "output_type": "display_data",
          "data": {
            "image/png": "[encoded data removed]",
            "text/plain": [
              "<Figure size 432x216 with 2 Axes>"
            ]
          },
          "metadata": {
            "tags": []
          }
        }
      ]
    },
    {
      "cell_type": "code",
      "metadata": {
        "id": "lLwEjJbjLpCv",
        "colab_type": "code",
        "colab": {
          "base_uri": "https://localhost:8080/",
          "height": 206
        },
        "outputId": "04558e87-ec60-4a59-fcb3-47673d61e2c7"
      },
      "source": [
        "i = 12\n",
        "plt.figure(figsize=(6,3))\n",
        "plt.subplot(1,2,1)\n",
        "plot_image(i, predictions, test_labels, test_images)\n",
        "plt.subplot(1,2,2)\n",
        "plot_value_array(i, predictions,  test_labels)\n",
        "plt.show()"
      ],
      "execution_count": 23,
      "outputs": [
        {
          "output_type": "display_data",
          "data": {
            "image/png": "[encoded data removed]",
            "text/plain": [
              "<Figure size 432x216 with 2 Axes>"
            ]
          },
          "metadata": {
            "tags": []
          }
        }
      ]
    },
    {
      "cell_type": "code",
      "metadata": {
        "id": "EnURtBpILr3X",
        "colab_type": "code",
        "colab": {
          "base_uri": "https://localhost:8080/",
          "height": 612
        },
        "outputId": "fe21c6eb-eacc-418a-a9a3-c7b86dc79fc9"
      },
      "source": [
        "num_rows = 5\n",
        "num_cols = 3\n",
        "num_images = num_rows*num_cols\n",
        "plt.figure(figsize=(2*2*num_cols, 2*num_rows))\n",
        "for i in range(num_images):\n",
        "  plt.subplot(num_rows, 2*num_cols, 2*i+1)\n",
        "  plot_image(i, predictions, test_labels, test_images)\n",
        "  plt.subplot(num_rows, 2*num_cols, 2*i+2)\n",
        "  plot_value_array(i, predictions, test_labels)\n",
        "plt.show()"
      ],
      "execution_count": 24,
      "outputs": [
        {
          "output_type": "display_data",
          "data": {
            "image/png": "[encoded data removed]",
            "text/plain": [
              "<Figure size 864x720 with 30 Axes>"
            ]
          },
          "metadata": {
            "tags": []
          }
        }
      ]
    },
    {
      "cell_type": "code",
      "metadata": {
        "id": "3Nkk8rI0L0kp",
        "colab_type": "code",
        "colab": {
          "base_uri": "https://localhost:8080/",
          "height": 304
        },
        "outputId": "29cae3d5-eca6-4dfb-a2c4-f687a814abb4"
      },
      "source": [
        "# Preform a single prediction on a single image\n",
        "img = test_images[0] # Shpae is 28x28\n",
        "\n",
        "# add the image to a batch where it is the only member\n",
        "img = (np.expand_dims(img, 0)) # new shape (1, 28, 28)\n",
        "\n",
        "prediction_single = model.predict(img)\n",
        "plot_value_array(0, prediction_single, test_labels)\n",
        "_ = plt.xticks(range(10), class_names, rotation=45)\n"
      ],
      "execution_count": 26,
      "outputs": [
        {
          "output_type": "display_data",
          "data": {
            "image/png": "[encoded data removed]",
            "text/plain": [
              "<Figure size 432x288 with 1 Axes>"
            ]
          },
          "metadata": {
            "tags": []
          }
        }
      ]
    }
  ]
}