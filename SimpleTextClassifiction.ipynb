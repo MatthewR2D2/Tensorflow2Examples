{
  "nbformat": 4,
  "nbformat_minor": 0,
  "metadata": {
    "colab": {
      "name": "SimpleTextClassifiction.ipynb",
      "version": "0.3.2",
      "provenance": [],
      "include_colab_link": true
    },
    "kernelspec": {
      "name": "python3",
      "display_name": "Python 3"
    },
    "accelerator": "TPU"
  },
  "cells": [
    {
      "cell_type": "markdown",
      "metadata": {
        "id": "view-in-github",
        "colab_type": "text"
      },
      "source": [
        "<a href=\"https://colab.research.google.com/github/MatthewR2D2/Tensorflow2Examples/blob/master/SimpleTextClassifiction.ipynb\" target=\"_parent\"><img src=\"https://colab.research.google.com/assets/colab-badge.svg\" alt=\"Open In Colab\"/></a>"
      ]
    },
    {
      "cell_type": "code",
      "metadata": {
        "id": "HCDYWrhgP6X9",
        "colab_type": "code",
        "colab": {}
      },
      "source": [
        "from __future__ import absolute_import, division, print_function, unicode_literals\n",
        "!pip install -q tensorflow==2.0.0-alpha0\n",
        "import tensorflow as tf\n",
        "from tensorflow import keras\n",
        "\n",
        "import numpy as np"
      ],
      "execution_count": 0,
      "outputs": []
    },
    {
      "cell_type": "code",
      "metadata": {
        "id": "KFFPq33WRFcu",
        "colab_type": "code",
        "colab": {
          "base_uri": "https://localhost:8080/",
          "height": 50
        },
        "outputId": "0dddb05a-549d-4666-9b06-65aa88a9737e"
      },
      "source": [
        "# Download the data set of words and split it between training and testing\n",
        "imdb = keras.datasets.imdb\n",
        "(train_data, train_labels), (test_data, test_labels) = imdb.load_data(num_words=10000)"
      ],
      "execution_count": 3,
      "outputs": [
        {
          "output_type": "stream",
          "text": [
            "Downloading data from https://storage.googleapis.com/tensorflow/tf-keras-datasets/imdb.npz\n",
            "17465344/17464789 [==============================] - 0s 0us/step\n"
          ],
          "name": "stdout"
        }
      ]
    },
    {
      "cell_type": "code",
      "metadata": {
        "id": "4w-tIvuXRmP-",
        "colab_type": "code",
        "colab": {
          "base_uri": "https://localhost:8080/",
          "height": 87
        },
        "outputId": "99961d1f-4f19-4294-c4bb-ea8fd6eac5c5"
      },
      "source": [
        "# Data exploration\n",
        "print(\"Training entries: {}, labels: {}\".format(len(train_data), len(train_labels)))\n",
        "print(\"Training data 0:\", train_data[0])\n",
        "print(\"Train data 0:{}, Train data 1:{}\".format(len(train_data[0]), len(train_data[1])))"
      ],
      "execution_count": 4,
      "outputs": [
        {
          "output_type": "stream",
          "text": [
            "Training entries: 25000, labels: 25000\n",
            "Training data 0: [1, 14, 22, 16, 43, 530, 973, 1622, 1385, 65, 458, 4468, 66, 3941, 4, 173, 36, 256, 5, 25, 100, 43, 838, 112, 50, 670, 2, 9, 35, 480, 284, 5, 150, 4, 172, 112, 167, 2, 336, 385, 39, 4, 172, 4536, 1111, 17, 546, 38, 13, 447, 4, 192, 50, 16, 6, 147, 2025, 19, 14, 22, 4, 1920, 4613, 469, 4, 22, 71, 87, 12, 16, 43, 530, 38, 76, 15, 13, 1247, 4, 22, 17, 515, 17, 12, 16, 626, 18, 2, 5, 62, 386, 12, 8, 316, 8, 106, 5, 4, 2223, 5244, 16, 480, 66, 3785, 33, 4, 130, 12, 16, 38, 619, 5, 25, 124, 51, 36, 135, 48, 25, 1415, 33, 6, 22, 12, 215, 28, 77, 52, 5, 14, 407, 16, 82, 2, 8, 4, 107, 117, 5952, 15, 256, 4, 2, 7, 3766, 5, 723, 36, 71, 43, 530, 476, 26, 400, 317, 46, 7, 4, 2, 1029, 13, 104, 88, 4, 381, 15, 297, 98, 32, 2071, 56, 26, 141, 6, 194, 7486, 18, 4, 226, 22, 21, 134, 476, 26, 480, 5, 144, 30, 5535, 18, 51, 36, 28, 224, 92, 25, 104, 4, 226, 65, 16, 38, 1334, 88, 12, 16, 283, 5, 16, 4472, 113, 103, 32, 15, 16, 5345, 19, 178, 32]\n",
            "Train data 0:218, Train data 1:189\n"
          ],
          "name": "stdout"
        }
      ]
    },
    {
      "cell_type": "code",
      "metadata": {
        "id": "FPKyht2SR_iE",
        "colab_type": "code",
        "colab": {
          "base_uri": "https://localhost:8080/",
          "height": 50
        },
        "outputId": "30878e29-1de4-4fe7-f78c-122c7c34f030"
      },
      "source": [
        "# Method for coverting a interger back into a word\n",
        "# A dictionary mapping words to an integer index\n",
        "word_index = imdb.get_word_index()\n",
        "\n",
        "# The first indices are reserved\n",
        "word_index = {k:(v+3) for k,v in word_index.items()}\n",
        "word_index[\"<PAD>\"] = 0\n",
        "word_index[\"<START>\"] = 1\n",
        "word_index[\"<UNK>\"] = 2  # unknown\n",
        "word_index[\"<UNUSED>\"] = 3\n",
        "\n",
        "reverse_word_index = dict([(value, key) for (key, value) in word_index.items()])\n",
        "\n",
        "def decode_review(text):\n",
        "    return ' '.join([reverse_word_index.get(i, '?') for i in text])"
      ],
      "execution_count": 5,
      "outputs": [
        {
          "output_type": "stream",
          "text": [
            "Downloading data from https://storage.googleapis.com/tensorflow/tf-keras-datasets/imdb_word_index.json\n",
            "1646592/1641221 [==============================] - 0s 0us/step\n"
          ],
          "name": "stdout"
        }
      ]
    },
    {
      "cell_type": "code",
      "metadata": {
        "id": "67TOYTJASNa6",
        "colab_type": "code",
        "colab": {
          "base_uri": "https://localhost:8080/",
          "height": 53
        },
        "outputId": "47f7a67a-c965-4179-d4e5-2ebad56c7abc"
      },
      "source": [
        "# Simple Decode Test\n",
        "decode_review(train_data[0])"
      ],
      "execution_count": 6,
      "outputs": [
        {
          "output_type": "execute_result",
          "data": {
            "text/plain": [
              "\"<START> this film was just brilliant casting location scenery story direction everyone's really suited the part they played and you could just imagine being there robert <UNK> is an amazing actor and now the same being director <UNK> father came from the same scottish island as myself so i loved the fact there was a real connection with this film the witty remarks throughout the film were great it was just brilliant so much that i bought the film as soon as it was released for <UNK> and would recommend it to everyone to watch and the fly fishing was amazing really cried at the end it was so sad and you know what they say if you cry at a film it must have been good and this definitely was also <UNK> to the two little boy's that played the <UNK> of norman and paul they were just brilliant children are often left out of the <UNK> list i think because the stars that play them all grown up are such a big profile for the whole film but these children are amazing and should be praised for what they have done don't you think the whole story was so lovely because it was true and was someone's life after all that was shared with us all\""
            ]
          },
          "metadata": {
            "tags": []
          },
          "execution_count": 6
        }
      ]
    },
    {
      "cell_type": "code",
      "metadata": {
        "id": "3jfF0r16ST5_",
        "colab_type": "code",
        "colab": {
          "base_uri": "https://localhost:8080/",
          "height": 33
        },
        "outputId": "f129735f-0946-4200-a52e-eb047a926c02"
      },
      "source": [
        "# Data pre-procesing\n",
        "# Convert the array of intergers into a tensor before feeding into a NN\n",
        "# Pad the array so they all have the same lenght saving memory and time\n",
        "def pad_array(array):\n",
        "  return keras.preprocessing.sequence.pad_sequences(array,value=word_index[\"<PAD>\"],\n",
        "                                                        padding='post',\n",
        "                                                        maxlen=256)\n",
        "\n",
        "train_data = pad_array(train_data)\n",
        "test_data  = pad_array(test_data)\n",
        "\n",
        "# Check lenght of differnt array\n",
        "print(\"Array 1 Len: {} Array 2 Len {}\".format(len(train_data[0]), len(train_data[1])))"
      ],
      "execution_count": 7,
      "outputs": [
        {
          "output_type": "stream",
          "text": [
            "Array 1 Len: 256 Array 2 Len 256\n"
          ],
          "name": "stdout"
        }
      ]
    },
    {
      "cell_type": "code",
      "metadata": {
        "id": "I3qGvWQ8T3F7",
        "colab_type": "code",
        "colab": {
          "base_uri": "https://localhost:8080/",
          "height": 284
        },
        "outputId": "a822c862-bb59-48c2-e5bd-6775890d3201"
      },
      "source": [
        "# Build model\n",
        "vocab_size = 10000 \n",
        "\n",
        "# Embedded layer take a interger-encoded vocab and finds embedded vector of the word\n",
        "# GobalAverage pooling gives a fix lenght output vector for each example\n",
        "# by averaging the sequence dimension handels input of varialbe lenght simply\n",
        "\n",
        "\n",
        "model = keras.Sequential()\n",
        "model.add(keras.layers.Embedding(vocab_size, 16))\n",
        "model.add(keras.layers.GlobalAveragePooling1D())\n",
        "model.add(keras.layers.Dense(16, activation='relu'))\n",
        "model.add(keras.layers.Dense(1, activation='sigmoid'))\n",
        "\n",
        "model.summary()"
      ],
      "execution_count": 8,
      "outputs": [
        {
          "output_type": "stream",
          "text": [
            "Model: \"sequential\"\n",
            "_________________________________________________________________\n",
            "Layer (type)                 Output Shape              Param #   \n",
            "=================================================================\n",
            "embedding (Embedding)        (None, None, 16)          160000    \n",
            "_________________________________________________________________\n",
            "global_average_pooling1d (Gl (None, 16)                0         \n",
            "_________________________________________________________________\n",
            "dense (Dense)                (None, 16)                272       \n",
            "_________________________________________________________________\n",
            "dense_1 (Dense)              (None, 1)                 17        \n",
            "=================================================================\n",
            "Total params: 160,289\n",
            "Trainable params: 160,289\n",
            "Non-trainable params: 0\n",
            "_________________________________________________________________\n"
          ],
          "name": "stdout"
        }
      ]
    },
    {
      "cell_type": "code",
      "metadata": {
        "id": "WU2Igbhphh4D",
        "colab_type": "code",
        "colab": {}
      },
      "source": [
        "# compile the model\n",
        "# Loss is for a binary classification problem\n",
        "# binary_crossentropy is better at dealing with probabilities over mean squared error\n",
        "model.compile(optimizer='adam',\n",
        "              loss='binary_crossentropy',\n",
        "              metrics=['accuracy'])"
      ],
      "execution_count": 0,
      "outputs": []
    },
    {
      "cell_type": "code",
      "metadata": {
        "id": "Kths7C1-h1jP",
        "colab_type": "code",
        "colab": {}
      },
      "source": [
        "# Build a validation set\n",
        "x_val = train_data[:10000]\n",
        "partial_x_train = train_data[10000:]\n",
        "y_val = train_labels[:10000]\n",
        "partial_y_train = train_labels[10000:]"
      ],
      "execution_count": 0,
      "outputs": []
    },
    {
      "cell_type": "code",
      "metadata": {
        "id": "mWw1m2EUiHc3",
        "colab_type": "code",
        "colab": {
          "base_uri": "https://localhost:8080/",
          "height": 1372
        },
        "outputId": "27cd4262-9833-4493-ac59-f00332131a75"
      },
      "source": [
        "# Train up the model\n",
        "history = model.fit(partial_x_train,\n",
        "                   partial_y_train,\n",
        "                   epochs = 40,\n",
        "                   batch_size = 512,\n",
        "                   validation_data = (x_val, y_val),\n",
        "                   verbose = 1)"
      ],
      "execution_count": 11,
      "outputs": [
        {
          "output_type": "stream",
          "text": [
            "Train on 15000 samples, validate on 10000 samples\n",
            "Epoch 1/40\n",
            "15000/15000 [==============================] - 1s 90us/sample - loss: 0.6919 - accuracy: 0.5375 - val_loss: 0.6900 - val_accuracy: 0.6151\n",
            "Epoch 2/40\n",
            "15000/15000 [==============================] - 1s 68us/sample - loss: 0.6862 - accuracy: 0.6797 - val_loss: 0.6824 - val_accuracy: 0.6915\n",
            "Epoch 3/40\n",
            "15000/15000 [==============================] - 1s 69us/sample - loss: 0.6743 - accuracy: 0.7313 - val_loss: 0.6673 - val_accuracy: 0.7512\n",
            "Epoch 4/40\n",
            "15000/15000 [==============================] - 1s 75us/sample - loss: 0.6530 - accuracy: 0.7523 - val_loss: 0.6427 - val_accuracy: 0.7613\n",
            "Epoch 5/40\n",
            "15000/15000 [==============================] - 1s 79us/sample - loss: 0.6207 - accuracy: 0.7885 - val_loss: 0.6083 - val_accuracy: 0.7857\n",
            "Epoch 6/40\n",
            "15000/15000 [==============================] - 1s 83us/sample - loss: 0.5782 - accuracy: 0.8105 - val_loss: 0.5660 - val_accuracy: 0.8011\n",
            "Epoch 7/40\n",
            "15000/15000 [==============================] - 1s 85us/sample - loss: 0.5284 - accuracy: 0.8261 - val_loss: 0.5191 - val_accuracy: 0.8200\n",
            "Epoch 8/40\n",
            "15000/15000 [==============================] - 1s 69us/sample - loss: 0.4783 - accuracy: 0.8451 - val_loss: 0.4756 - val_accuracy: 0.8330\n",
            "Epoch 9/40\n",
            "15000/15000 [==============================] - 1s 66us/sample - loss: 0.4319 - accuracy: 0.8604 - val_loss: 0.4370 - val_accuracy: 0.8440\n",
            "Epoch 10/40\n",
            "15000/15000 [==============================] - 1s 66us/sample - loss: 0.3914 - accuracy: 0.8737 - val_loss: 0.4058 - val_accuracy: 0.8513\n",
            "Epoch 11/40\n",
            "15000/15000 [==============================] - 1s 64us/sample - loss: 0.3578 - accuracy: 0.8817 - val_loss: 0.3804 - val_accuracy: 0.8596\n",
            "Epoch 12/40\n",
            "15000/15000 [==============================] - 1s 64us/sample - loss: 0.3297 - accuracy: 0.8899 - val_loss: 0.3612 - val_accuracy: 0.8624\n",
            "Epoch 13/40\n",
            "15000/15000 [==============================] - 1s 64us/sample - loss: 0.3070 - accuracy: 0.8971 - val_loss: 0.3445 - val_accuracy: 0.8688\n",
            "Epoch 14/40\n",
            "15000/15000 [==============================] - 1s 65us/sample - loss: 0.2867 - accuracy: 0.9027 - val_loss: 0.3324 - val_accuracy: 0.8729\n",
            "Epoch 15/40\n",
            "15000/15000 [==============================] - 1s 64us/sample - loss: 0.2697 - accuracy: 0.9074 - val_loss: 0.3225 - val_accuracy: 0.8746\n",
            "Epoch 16/40\n",
            "15000/15000 [==============================] - 1s 65us/sample - loss: 0.2546 - accuracy: 0.9119 - val_loss: 0.3143 - val_accuracy: 0.8748\n",
            "Epoch 17/40\n",
            "15000/15000 [==============================] - 1s 65us/sample - loss: 0.2406 - accuracy: 0.9172 - val_loss: 0.3076 - val_accuracy: 0.8787\n",
            "Epoch 18/40\n",
            "15000/15000 [==============================] - 1s 64us/sample - loss: 0.2283 - accuracy: 0.9215 - val_loss: 0.3020 - val_accuracy: 0.8811\n",
            "Epoch 19/40\n",
            "15000/15000 [==============================] - 1s 63us/sample - loss: 0.2171 - accuracy: 0.9241 - val_loss: 0.2972 - val_accuracy: 0.8822\n",
            "Epoch 20/40\n",
            "15000/15000 [==============================] - 1s 64us/sample - loss: 0.2071 - accuracy: 0.9281 - val_loss: 0.2940 - val_accuracy: 0.8824\n",
            "Epoch 21/40\n",
            "15000/15000 [==============================] - 1s 66us/sample - loss: 0.1968 - accuracy: 0.9340 - val_loss: 0.2913 - val_accuracy: 0.8835\n",
            "Epoch 22/40\n",
            "15000/15000 [==============================] - 1s 64us/sample - loss: 0.1882 - accuracy: 0.9365 - val_loss: 0.2891 - val_accuracy: 0.8844\n",
            "Epoch 23/40\n",
            "15000/15000 [==============================] - 1s 65us/sample - loss: 0.1797 - accuracy: 0.9411 - val_loss: 0.2884 - val_accuracy: 0.8841\n",
            "Epoch 24/40\n",
            "15000/15000 [==============================] - 1s 64us/sample - loss: 0.1722 - accuracy: 0.9444 - val_loss: 0.2870 - val_accuracy: 0.8848\n",
            "Epoch 25/40\n",
            "15000/15000 [==============================] - 1s 62us/sample - loss: 0.1645 - accuracy: 0.9475 - val_loss: 0.2859 - val_accuracy: 0.8846\n",
            "Epoch 26/40\n",
            "15000/15000 [==============================] - 1s 63us/sample - loss: 0.1577 - accuracy: 0.9499 - val_loss: 0.2868 - val_accuracy: 0.8832\n",
            "Epoch 27/40\n",
            "15000/15000 [==============================] - 1s 64us/sample - loss: 0.1513 - accuracy: 0.9527 - val_loss: 0.2865 - val_accuracy: 0.8852\n",
            "Epoch 28/40\n",
            "15000/15000 [==============================] - 1s 64us/sample - loss: 0.1451 - accuracy: 0.9559 - val_loss: 0.2873 - val_accuracy: 0.8847\n",
            "Epoch 29/40\n",
            "15000/15000 [==============================] - 1s 64us/sample - loss: 0.1396 - accuracy: 0.9581 - val_loss: 0.2892 - val_accuracy: 0.8844\n",
            "Epoch 30/40\n",
            "15000/15000 [==============================] - 1s 63us/sample - loss: 0.1340 - accuracy: 0.9600 - val_loss: 0.2888 - val_accuracy: 0.8863\n",
            "Epoch 31/40\n",
            "15000/15000 [==============================] - 1s 63us/sample - loss: 0.1282 - accuracy: 0.9621 - val_loss: 0.2902 - val_accuracy: 0.8864\n",
            "Epoch 32/40\n",
            "15000/15000 [==============================] - 1s 67us/sample - loss: 0.1230 - accuracy: 0.9657 - val_loss: 0.2919 - val_accuracy: 0.8864\n",
            "Epoch 33/40\n",
            "15000/15000 [==============================] - 1s 64us/sample - loss: 0.1181 - accuracy: 0.9669 - val_loss: 0.2945 - val_accuracy: 0.8843\n",
            "Epoch 34/40\n",
            "15000/15000 [==============================] - 1s 67us/sample - loss: 0.1136 - accuracy: 0.9681 - val_loss: 0.2970 - val_accuracy: 0.8853\n",
            "Epoch 35/40\n",
            "15000/15000 [==============================] - 1s 64us/sample - loss: 0.1094 - accuracy: 0.9687 - val_loss: 0.2998 - val_accuracy: 0.8839\n",
            "Epoch 36/40\n",
            "15000/15000 [==============================] - 1s 63us/sample - loss: 0.1050 - accuracy: 0.9715 - val_loss: 0.3019 - val_accuracy: 0.8839\n",
            "Epoch 37/40\n",
            "15000/15000 [==============================] - 1s 64us/sample - loss: 0.1007 - accuracy: 0.9723 - val_loss: 0.3048 - val_accuracy: 0.8821\n",
            "Epoch 38/40\n",
            "15000/15000 [==============================] - 1s 65us/sample - loss: 0.0967 - accuracy: 0.9737 - val_loss: 0.3087 - val_accuracy: 0.8817\n",
            "Epoch 39/40\n",
            "15000/15000 [==============================] - 1s 65us/sample - loss: 0.0935 - accuracy: 0.9751 - val_loss: 0.3126 - val_accuracy: 0.8817\n",
            "Epoch 40/40\n",
            "15000/15000 [==============================] - 1s 64us/sample - loss: 0.0894 - accuracy: 0.9769 - val_loss: 0.3158 - val_accuracy: 0.8822\n"
          ],
          "name": "stdout"
        }
      ]
    },
    {
      "cell_type": "code",
      "metadata": {
        "id": "4y4mudBJil_J",
        "colab_type": "code",
        "colab": {
          "base_uri": "https://localhost:8080/",
          "height": 50
        },
        "outputId": "77784261-663a-4930-c991-b273f7db70a9"
      },
      "source": [
        "# Evaluate the model\n",
        "results = model.evaluate(test_data, test_labels)\n",
        "print(results)"
      ],
      "execution_count": 12,
      "outputs": [
        {
          "output_type": "stream",
          "text": [
            "25000/25000 [==============================] - 1s 40us/sample - loss: 0.3372 - accuracy: 0.8710\n",
            "[0.3371920433807373, 0.87096]\n"
          ],
          "name": "stdout"
        }
      ]
    },
    {
      "cell_type": "code",
      "metadata": {
        "id": "7mnmSfL7ivAz",
        "colab_type": "code",
        "colab": {
          "base_uri": "https://localhost:8080/",
          "height": 33
        },
        "outputId": "34659275-ea73-47d5-c7d2-5e0521255776"
      },
      "source": [
        "# Graph the results\n",
        "history_dict = history.history\n",
        "history_dict.keys()"
      ],
      "execution_count": 14,
      "outputs": [
        {
          "output_type": "execute_result",
          "data": {
            "text/plain": [
              "dict_keys(['loss', 'accuracy', 'val_loss', 'val_accuracy'])"
            ]
          },
          "metadata": {
            "tags": []
          },
          "execution_count": 14
        }
      ]
    },
    {
      "cell_type": "code",
      "metadata": {
        "id": "O16lCFYijAVm",
        "colab_type": "code",
        "colab": {
          "base_uri": "https://localhost:8080/",
          "height": 294
        },
        "outputId": "eb81e4ce-32b2-4ece-bd0b-ebd136297715"
      },
      "source": [
        "import matplotlib.pyplot as plt\n",
        "\n",
        "acc = history_dict['accuracy']\n",
        "val_acc = history_dict['val_accuracy']\n",
        "loss = history_dict['loss']\n",
        "val_loss = history_dict['val_loss']\n",
        "\n",
        "epochs = range(1, len(acc) + 1)\n",
        "\n",
        "# \"bo\" is for \"blue dot\"\n",
        "plt.plot(epochs, loss, 'bo', label='Training loss')\n",
        "# b is for \"solid blue line\"\n",
        "plt.plot(epochs, val_loss, 'b', label='Validation loss')\n",
        "plt.title('Training and validation loss')\n",
        "plt.xlabel('Epochs')\n",
        "plt.ylabel('Loss')\n",
        "plt.legend()\n",
        "\n",
        "plt.show()"
      ],
      "execution_count": 15,
      "outputs": [
        {
          "output_type": "display_data",
          "data": {
            "image/png": "[encoded data removed]",
            "text/plain": [
              "<Figure size 432x288 with 1 Axes>"
            ]
          },
          "metadata": {
            "tags": []
          }
        }
      ]
    },
    {
      "cell_type": "code",
      "metadata": {
        "id": "VtSCrfHZjF1T",
        "colab_type": "code",
        "colab": {
          "base_uri": "https://localhost:8080/",
          "height": 294
        },
        "outputId": "37337cbc-83f7-4214-ed18-90508d1c97d3"
      },
      "source": [
        "plt.clf()   # clear figure\n",
        "\n",
        "plt.plot(epochs, acc, 'bo', label='Training acc')\n",
        "plt.plot(epochs, val_acc, 'b', label='Validation acc')\n",
        "plt.title('Training and validation accuracy')\n",
        "plt.xlabel('Epochs')\n",
        "plt.ylabel('Accuracy')\n",
        "plt.legend()\n",
        "\n",
        "plt.show()"
      ],
      "execution_count": 16,
      "outputs": [
        {
          "output_type": "display_data",
          "data": {
            "image/png": "[encoded data removed]",
            "text/plain": [
              "<Figure size 432x288 with 1 Axes>"
            ]
          },
          "metadata": {
            "tags": []
          }
        }
      ]
    }
  ]
}